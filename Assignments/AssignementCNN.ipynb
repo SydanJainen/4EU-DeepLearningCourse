{
  "nbformat": 4,
  "nbformat_minor": 0,
  "metadata": {
    "colab": {
      "provenance": [],
      "gpuType": "T4",
      "authorship_tag": "ABX9TyNxcITRPJw+mz7dyd5UMyp/",
      "include_colab_link": true
    },
    "kernelspec": {
      "name": "python3",
      "display_name": "Python 3"
    },
    "language_info": {
      "name": "python"
    },
    "accelerator": "GPU"
  },
  "cells": [
    {
      "cell_type": "markdown",
      "metadata": {
        "id": "view-in-github",
        "colab_type": "text"
      },
      "source": [
        "<a href=\"https://colab.research.google.com/github/SydanJainen/4EU-DeepLearningCourse/blob/main/Assignments/AssignementCNN.ipynb\" target=\"_parent\"><img src=\"https://colab.research.google.com/assets/colab-badge.svg\" alt=\"Open In Colab\"/></a>"
      ]
    },
    {
      "cell_type": "markdown",
      "metadata": {
        "id": "sMteOzeJ8hrL"
      },
      "source": [
        "# Assignments\n",
        "\n",
        "### We are given a dataset containing 510 images which are categorized according two main characteristics/properties: “C1” and “C2”. The following inputs are available:\n",
        "* #### `input image', a 110 × 110 × 3 real-valued tensor. The last dimension denotes the number of input channels; the images belong to different combinations of the two properties C1 and C2. For C1 and C2 we have 5 and 6 possible values, respectively;  among the 30 possible couples (C1,C2), we have images for only 24 of them. We have around 20 samples (little more or less) for each of the available couples;  values in each tensor entry are integers in [0, 255];\n",
        "* #### C1, string, the value for the C1 property. 5 possible values;\n",
        "* #### C2, string, the value for the C2 property. 6 possible values.\n",
        "\n",
        "### Design a deep neural network model to predict the class of an image, given by the couple (C1,C2).\n",
        "\n",
        "### Provide a sketch of each of the following points, then implement your solution.\n",
        "1. MODEL: Which architecture do you consider the most appropriate for this task, and why;\n",
        "2. INPUT:\n",
        "* After a potential preprocessing step, which is the input of the model, and\n",
        "how is it represented;\n",
        "3. OUTPUT: How would you design the output layer and why;\n",
        "4. LOSS: Which loss function would you use to train your model and why;\n",
        "5. MODEL CONFIGURATION:\n",
        " Model composition (composition of layers, regardless their number,\n",
        "or their dimension, which can be object of tuning)\n",
        "6. MODEL EVALUATION: How would you assess (in which setting) the\n",
        "generalization capabilities of the model on unseen data?\n"
      ]
    },
    {
      "cell_type": "code",
      "source": [
        "from google.colab import drive\n",
        "drive.mount('/content/drive', force_remount=True)\n",
        "\n",
        "## go to your datapath\n",
        "%cd /content/drive/MyDrive/INSEGNAMENTI/4EU+/\n",
        "\n",
        "# Here you should see the desired files\n",
        "%ls"
      ],
      "metadata": {
        "colab": {
          "base_uri": "https://localhost:8080/"
        },
        "id": "OI9U1PiwZ8EJ",
        "outputId": "9e039279-a5dd-490f-a094-a5fba9f230ee"
      },
      "execution_count": 1,
      "outputs": [
        {
          "output_type": "stream",
          "name": "stdout",
          "text": [
            "Mounted at /content/drive\n",
            "/content/drive/MyDrive/INSEGNAMENTI/4EU+\n",
            "input.pkl\n"
          ]
        }
      ]
    },
    {
      "cell_type": "code",
      "execution_count": 2,
      "metadata": {
        "id": "ApgM0K_w8hrQ",
        "outputId": "845f8557-7c77-41b8-94f2-5d8ee6f57c4a",
        "colab": {
          "base_uri": "https://localhost:8080/"
        }
      },
      "outputs": [
        {
          "output_type": "stream",
          "name": "stdout",
          "text": [
            "length image:510\n",
            "length C1:510\n",
            "length C2:510\n"
          ]
        }
      ],
      "source": [
        "import pickle as pk\n",
        "# Open the pickle data\n",
        "with open('input.pkl', 'rb') as f:\n",
        "  data = pk.load(f)\n",
        "\n",
        "images = data['imgs']\n",
        "C1 = data['C1']\n",
        "C2 = data['C2']\n",
        "print(f\"length image:{len(images)}\")\n",
        "print(f\"length C1:{len(C1)}\")\n",
        "print(f\"length C2:{len(C2)}\")"
      ]
    },
    {
      "cell_type": "code",
      "source": [
        "#import\n",
        "import torch\n",
        "import torch.nn as nn\n",
        "import torch.nn.functional as F\n",
        "from torch.autograd import Variable\n",
        "import torchvision\n",
        "from torchvision import transforms\n",
        "\n",
        "\n",
        "import numpy as np\n",
        "import matplotlib.pyplot as plt\n",
        "from torchvision.transforms import ToTensor, Normalize, Compose\n",
        "from torch.utils.data import random_split"
      ],
      "metadata": {
        "id": "E5t2r4xPY7xy"
      },
      "execution_count": 3,
      "outputs": []
    },
    {
      "cell_type": "code",
      "source": [
        "transofm = Compose([ToTensor(),\n",
        "                        Normalize((0,), (1,))])\n",
        "tensor_images = []\n",
        "for i in images :\n",
        "  tensor_images.append(transofm(i))"
      ],
      "metadata": {
        "id": "sPKEIxDxbLzw"
      },
      "execution_count": 4,
      "outputs": []
    },
    {
      "cell_type": "code",
      "source": [
        "for a in np.unique(C1):\n",
        "  print(a)"
      ],
      "metadata": {
        "colab": {
          "base_uri": "https://localhost:8080/"
        },
        "id": "Y_9ZK3RfIRE9",
        "outputId": "86e4580d-479a-4a67-804c-7b58d34478e6"
      },
      "execution_count": 5,
      "outputs": [
        {
          "output_type": "stream",
          "name": "stdout",
          "text": [
            "dress\n",
            "pants\n",
            "shirt\n",
            "shoes\n",
            "shorts\n"
          ]
        }
      ]
    },
    {
      "cell_type": "code",
      "source": [
        "for a in np.unique(C2):\n",
        "  print(a)"
      ],
      "metadata": {
        "colab": {
          "base_uri": "https://localhost:8080/"
        },
        "id": "3o2q8J0jKzR5",
        "outputId": "aaa4d7d0-bc7a-4b01-cd78-947843a91be6"
      },
      "execution_count": 6,
      "outputs": [
        {
          "output_type": "stream",
          "name": "stdout",
          "text": [
            "black\n",
            "blue\n",
            "brown\n",
            "green\n",
            "red\n",
            "white\n"
          ]
        }
      ]
    },
    {
      "cell_type": "code",
      "source": [
        "main_dataset = zip(tensor_images, C1, C2)\n",
        "\n",
        "label_combinations = {}\n",
        "for i, (c1, c2) in enumerate(zip(C1, C2)):\n",
        "    label_combinations[i] = f\"{c1} {c2}\"\n",
        "\n",
        "unique_labels = set(label_combinations.values())\n",
        "label_to_index = {label: i for i, label in enumerate(unique_labels)}\n",
        "print(label_to_index)\n",
        "\n",
        "enumerated_dataset = []\n",
        "for i, (tensor_images, c1, c2) in enumerate(zip(tensor_images, C1, C2)):\n",
        "  label_combination = f\"{c1} {c2}\"\n",
        "  label_index = label_to_index[label_combination]\n",
        "  enumerated_dataset.append((tensor_images, label_index))\n",
        "\n",
        "print(len(enumerated_dataset))"
      ],
      "metadata": {
        "colab": {
          "base_uri": "https://localhost:8080/"
        },
        "id": "tzlpo6nuPlX4",
        "outputId": "1df6b844-4034-44f1-aa3a-6fa48460f1f4"
      },
      "execution_count": 7,
      "outputs": [
        {
          "output_type": "stream",
          "name": "stdout",
          "text": [
            "{'shirt green': 0, 'shirt black': 1, 'pants blue': 2, 'shorts black': 3, 'shorts green': 4, 'shoes brown': 5, 'shorts white': 6, 'dress white': 7, 'pants red': 8, 'shoes blue': 9, 'dress red': 10, 'shorts blue': 11, 'pants white': 12, 'shorts brown': 13, 'shirt blue': 14, 'pants brown': 15, 'shoes green': 16, 'shoes white': 17, 'shoes red': 18, 'dress blue': 19, 'dress black': 20, 'pants green': 21, 'pants black': 22, 'shoes black': 23}\n",
            "510\n"
          ]
        }
      ]
    },
    {
      "cell_type": "code",
      "source": [
        "BATCH_SIZE = 30\n",
        "\n",
        "train_size = int(0.7 * len(enumerated_dataset))\n",
        "val_size = int(0.1 * len(enumerated_dataset))\n",
        "test_size = len(enumerated_dataset) - train_size - val_size\n",
        "\n",
        "train_dataset, val_dataset, test_dataset = torch.utils.data.random_split(enumerated_dataset, [train_size, val_size, test_size])\n",
        "\n",
        "train_loader = torch.utils.data.DataLoader(train_dataset, batch_size=BATCH_SIZE, shuffle=True)\n",
        "val_loader = torch.utils.data.DataLoader(val_dataset, batch_size=BATCH_SIZE, shuffle=False)\n",
        "test_loader = torch.utils.data.DataLoader(test_dataset, batch_size=BATCH_SIZE, shuffle=False)"
      ],
      "metadata": {
        "id": "LwPZKxDbZQb2"
      },
      "execution_count": 8,
      "outputs": []
    },
    {
      "cell_type": "code",
      "source": [
        "def dimension(N,P,S,F) :\n",
        "  return (int((N + (2*P) - F)/ S) + 1)"
      ],
      "metadata": {
        "id": "pMz5W88eDujv"
      },
      "execution_count": 9,
      "outputs": []
    },
    {
      "cell_type": "code",
      "source": [
        "class CNN(nn.Module):\n",
        "    def __init__(self, kernel_size, stride, padding, pooling_strategy, dropout_rate):\n",
        "        super(CNN, self).__init__()\n",
        "        self.conv1 = nn.Conv2d(in_channels=3,\n",
        "                               out_channels=32,\n",
        "                               kernel_size = kernel_size,\n",
        "                               stride=stride,\n",
        "                               padding=padding)\n",
        "        dim1 = int(((110-kernel_size + (2*padding))/stride) + 1)\n",
        "        #print(dim1)\n",
        "        self.conv2 = nn.Conv2d(32, 64, kernel_size, stride, padding)\n",
        "        dim2 = int(((dim1-kernel_size + (2*padding))/stride) + 1)\n",
        "        #print(dim2)\n",
        "        if pooling_strategy == \"mean\" :\n",
        "          self.pool2d = nn.AvgPool2d(kernel_size=2, stride=2)\n",
        "        elif pooling_strategy == \"max\" :\n",
        "          self.pool2d = nn.MaxPool2d(kernel_size=2, stride=2)\n",
        "        else :\n",
        "          raise Exception()\n",
        "        dim3 = int(((dim2-2)/2 +1) * ((dim2-2)/2 +1) * 64) # 'same' = dim3\n",
        "        #print(dim3)\n",
        "        self.dropout1 = nn.Dropout(dropout_rate)\n",
        "        self.fc1 = nn.Linear(dim3, 128)\n",
        "        self.dropout2 = nn.Dropout(dropout_rate)\n",
        "        self.fc2 = nn.Linear(128, 10)\n",
        "\n",
        "    def forward(self, x):\n",
        "        x = self.conv1(x)\n",
        "        x = F.relu(x)\n",
        "        x = self.conv2(x)\n",
        "        x = F.relu(x)\n",
        "        x = self.pool2d(x)\n",
        "        x = self.dropout1(x)\n",
        "        x = torch.flatten(x, 1)\n",
        "        x = self.fc1(x)\n",
        "        x = F.relu(x)\n",
        "        x = self.dropout2(x)\n",
        "        x = self.fc2(x)\n",
        "        output = F.log_softmax(x, dim=1)\n",
        "        return output\n",
        "\n",
        "kernel_size_list = [3, 4, 5]\n",
        "stride = 1\n",
        "padding = 0\n",
        "pooling_strategy_list = ['mean', 'max']\n",
        "dropout_rate_list = [0, 0.1, 0.25]"
      ],
      "metadata": {
        "id": "vUdueaJfuPCC"
      },
      "execution_count": 10,
      "outputs": []
    },
    {
      "cell_type": "code",
      "source": [
        "# Computing the accuracy of a test set\n",
        "def evaluate(model, test_loader, error):\n",
        "#model = mlpinplace=False\n",
        "    correct = 0\n",
        "    cur_loss = 0;\n",
        "\n",
        "    for test_imgs, test_labels in test_loader:\n",
        "        test_imgs, test_labels = test_imgs.cuda(), test_labels.cuda()\n",
        "        output = model(test_imgs)\n",
        "        loss = error(output, test_labels)\n",
        "        cur_loss+=loss.item()\n",
        "        predicted = torch.max(output,1)[1]\n",
        "        correct += (predicted == test_labels).sum()\n",
        "    return cur_loss/len(test_loader.dataset), correct/len(test_loader.dataset)\n",
        "\n",
        "\n",
        "\n",
        "def fit(model, train_loader, error, test_loader, epochs):\n",
        "    optimizer = torch.optim.Adam(model.parameters(),lr=0.0001)#,lr=0.001, betas=(0.9,0.999))\n",
        "    model.train()\n",
        "    train_losses = []\n",
        "    test_losses = []\n",
        "\n",
        "    for epoch in range(epochs):\n",
        "        cur_loss = 0;\n",
        "        correct = 0\n",
        "        for X_batch, y_batch in train_loader:\n",
        "            X_batch, y_batch = X_batch.cuda(), y_batch.cuda()\n",
        "            optimizer.zero_grad()\n",
        "            output = model(X_batch)\n",
        "            loss = error(output, y_batch)\n",
        "            cur_loss+= loss.item()\n",
        "            loss.backward()\n",
        "            optimizer.step()\n",
        "\n",
        "        train_losses.append(cur_loss/len(train_loader.dataset))\n",
        "\n",
        "        test_loss, _ = evaluate(model, test_loader, error)\n",
        "        test_losses.append(test_loss)\n",
        "        print(f'Epoch : {epoch},  train loss:{train_losses[-1]}, test loss:{test_losses[-1]}')\n",
        "\n",
        "    return train_losses, test_losses"
      ],
      "metadata": {
        "id": "KswJYORFuor3"
      },
      "execution_count": 11,
      "outputs": []
    },
    {
      "cell_type": "code",
      "source": [
        "error = nn.CrossEntropyLoss()\n",
        "## We use validation data to select the best hyperparameters\n",
        "## Fewer epochs to speed-up\n",
        "epochs = 5\n",
        "### initializing best config\n",
        "best_accval = 0\n",
        "best_ks = -1\n",
        "best_pool = \"\"\n",
        "best_dr = -1\n",
        "for kernel_size in kernel_size_list:\n",
        "  for pooling_strategy in pooling_strategy_list:\n",
        "    for dropout_rate in dropout_rate_list:\n",
        "\n",
        "      model = CNN(kernel_size, stride, padding, pooling_strategy, dropout_rate)\n",
        "      print(f\"kernel size:{kernel_size}, pooling:{pooling_strategy},\\\n",
        "                  dropout rate:{dropout_rate}\")\n",
        "\n",
        "      it = iter(train_loader)\n",
        "      X_batch, y_batch = next(it)\n",
        "\n",
        "      if torch.cuda.is_available():\n",
        "        dev = \"cuda:0\"\n",
        "      else:\n",
        "        dev = \"cpu\"\n",
        "      device = torch.device(dev)\n",
        "\n",
        "      model.cuda()\n",
        "\n",
        "      train_losses, test_losses = fit(model,train_loader, error, val_loader, epochs)\n",
        "\n",
        "      loss, acc = evaluate(model, train_loader, error)\n",
        "      print(f\"\\tTrain Accuracy:{acc}, Train loss:{loss}\")\n",
        "\n",
        "      loss, acc = evaluate(model, val_loader, error)\n",
        "      print(f\"\\tValidation Accuracy:{acc}, Validation loss:{loss}\")\n",
        "      if acc > best_accval:\n",
        "        best_accval = acc\n",
        "        best_ks = kernel_size\n",
        "        best_pool = pooling_strategy\n",
        "        best_dr = dropout_rate\n",
        "\n",
        "      print(\"\\n\\n\")"
      ],
      "metadata": {
        "colab": {
          "base_uri": "https://localhost:8080/",
          "height": 409
        },
        "id": "Z7qaXTRbZTJ6",
        "outputId": "e7d8930d-61c2-4ede-82f8-295a44387654"
      },
      "execution_count": 12,
      "outputs": [
        {
          "output_type": "stream",
          "name": "stdout",
          "text": [
            "kernel size:3, pooling:mean,                  dropout rate:0\n"
          ]
        },
        {
          "output_type": "error",
          "ename": "RuntimeError",
          "evalue": "CUDA error: device-side assert triggered\nCUDA kernel errors might be asynchronously reported at some other API call, so the stacktrace below might be incorrect.\nFor debugging consider passing CUDA_LAUNCH_BLOCKING=1.\nCompile with `TORCH_USE_CUDA_DSA` to enable device-side assertions.\n",
          "traceback": [
            "\u001b[0;31m---------------------------------------------------------------------------\u001b[0m",
            "\u001b[0;31mRuntimeError\u001b[0m                              Traceback (most recent call last)",
            "\u001b[0;32m<ipython-input-12-1e938013b8a8>\u001b[0m in \u001b[0;36m<cell line: 10>\u001b[0;34m()\u001b[0m\n\u001b[1;32m     27\u001b[0m       \u001b[0mmodel\u001b[0m\u001b[0;34m.\u001b[0m\u001b[0mcuda\u001b[0m\u001b[0;34m(\u001b[0m\u001b[0;34m)\u001b[0m\u001b[0;34m\u001b[0m\u001b[0;34m\u001b[0m\u001b[0m\n\u001b[1;32m     28\u001b[0m \u001b[0;34m\u001b[0m\u001b[0m\n\u001b[0;32m---> 29\u001b[0;31m       \u001b[0mtrain_losses\u001b[0m\u001b[0;34m,\u001b[0m \u001b[0mtest_losses\u001b[0m \u001b[0;34m=\u001b[0m \u001b[0mfit\u001b[0m\u001b[0;34m(\u001b[0m\u001b[0mmodel\u001b[0m\u001b[0;34m,\u001b[0m\u001b[0mtrain_loader\u001b[0m\u001b[0;34m,\u001b[0m \u001b[0merror\u001b[0m\u001b[0;34m,\u001b[0m \u001b[0mval_loader\u001b[0m\u001b[0;34m,\u001b[0m \u001b[0mepochs\u001b[0m\u001b[0;34m)\u001b[0m\u001b[0;34m\u001b[0m\u001b[0;34m\u001b[0m\u001b[0m\n\u001b[0m\u001b[1;32m     30\u001b[0m \u001b[0;34m\u001b[0m\u001b[0m\n\u001b[1;32m     31\u001b[0m       \u001b[0mloss\u001b[0m\u001b[0;34m,\u001b[0m \u001b[0macc\u001b[0m \u001b[0;34m=\u001b[0m \u001b[0mevaluate\u001b[0m\u001b[0;34m(\u001b[0m\u001b[0mmodel\u001b[0m\u001b[0;34m,\u001b[0m \u001b[0mtrain_loader\u001b[0m\u001b[0;34m,\u001b[0m \u001b[0merror\u001b[0m\u001b[0;34m)\u001b[0m\u001b[0;34m\u001b[0m\u001b[0;34m\u001b[0m\u001b[0m\n",
            "\u001b[0;32m<ipython-input-11-7f8dbc51d982>\u001b[0m in \u001b[0;36mfit\u001b[0;34m(model, train_loader, error, test_loader, epochs)\u001b[0m\n\u001b[1;32m     33\u001b[0m             \u001b[0moutput\u001b[0m \u001b[0;34m=\u001b[0m \u001b[0mmodel\u001b[0m\u001b[0;34m(\u001b[0m\u001b[0mX_batch\u001b[0m\u001b[0;34m)\u001b[0m\u001b[0;34m\u001b[0m\u001b[0;34m\u001b[0m\u001b[0m\n\u001b[1;32m     34\u001b[0m             \u001b[0mloss\u001b[0m \u001b[0;34m=\u001b[0m \u001b[0merror\u001b[0m\u001b[0;34m(\u001b[0m\u001b[0moutput\u001b[0m\u001b[0;34m,\u001b[0m \u001b[0my_batch\u001b[0m\u001b[0;34m)\u001b[0m\u001b[0;34m\u001b[0m\u001b[0;34m\u001b[0m\u001b[0m\n\u001b[0;32m---> 35\u001b[0;31m             \u001b[0mcur_loss\u001b[0m\u001b[0;34m+=\u001b[0m \u001b[0mloss\u001b[0m\u001b[0;34m.\u001b[0m\u001b[0mitem\u001b[0m\u001b[0;34m(\u001b[0m\u001b[0;34m)\u001b[0m\u001b[0;34m\u001b[0m\u001b[0;34m\u001b[0m\u001b[0m\n\u001b[0m\u001b[1;32m     36\u001b[0m             \u001b[0mloss\u001b[0m\u001b[0;34m.\u001b[0m\u001b[0mbackward\u001b[0m\u001b[0;34m(\u001b[0m\u001b[0;34m)\u001b[0m\u001b[0;34m\u001b[0m\u001b[0;34m\u001b[0m\u001b[0m\n\u001b[1;32m     37\u001b[0m             \u001b[0moptimizer\u001b[0m\u001b[0;34m.\u001b[0m\u001b[0mstep\u001b[0m\u001b[0;34m(\u001b[0m\u001b[0;34m)\u001b[0m\u001b[0;34m\u001b[0m\u001b[0;34m\u001b[0m\u001b[0m\n",
            "\u001b[0;31mRuntimeError\u001b[0m: CUDA error: device-side assert triggered\nCUDA kernel errors might be asynchronously reported at some other API call, so the stacktrace below might be incorrect.\nFor debugging consider passing CUDA_LAUNCH_BLOCKING=1.\nCompile with `TORCH_USE_CUDA_DSA` to enable device-side assertions.\n"
          ]
        }
      ]
    },
    {
      "cell_type": "code",
      "source": [
        "print(f\"best configuration: kernel size:{best_ks}, pooling:{best_pool},\\\n",
        "                  dropuout rate:{best_dr}\")\n",
        "# Pick the best model and verify its performance on the test set\n",
        "model = CNN(best_ks, stride, padding, best_pool, best_dr)\n",
        "\n",
        "#it = iter(train_dataloader)\n",
        "#X_batch, y_batch = next(it)\n",
        "\n",
        "if torch.cuda.is_available():\n",
        "  dev = \"cuda:0\"\n",
        "else:\n",
        "  dev = \"cpu\"\n",
        "device = torch.device(dev)\n",
        "\n",
        "model.cuda()\n",
        "## we set again more epochs for the final training.\n",
        "## Note that here we could integrate the validaiton data in the training set\n",
        "epochs = 15\n",
        "train_losses, test_losses = fit(model,train_dataloader, error, test_dataloader, epochs)\n",
        "\n",
        "loss, acc = evaluate(model, test_dataloader, error)\n",
        "print(f\"Test Accuracy:{acc}, Test loss:{loss}\")\n",
        "\n",
        "plt.plot(train_losses,label=\"training loss\")\n",
        "plt.plot(test_losses,label=\"testing loss\")\n",
        "plt.legend(fontsize=15)\n",
        "plt.xlabel('Epoch', fontsize=20)\n",
        "plt.ylabel('Loss', fontsize=20)\n",
        "plt.xticks(fontsize=15)\n",
        "plt.yticks(fontsize=15)\n",
        "plt.figure()"
      ],
      "metadata": {
        "id": "hrMWNW17ZUd_",
        "outputId": "21bffc2e-0bb9-4092-d6ca-7eac0cfc3120",
        "colab": {
          "base_uri": "https://localhost:8080/",
          "height": 1000
        }
      },
      "execution_count": null,
      "outputs": [
        {
          "output_type": "stream",
          "name": "stdout",
          "text": [
            "cuda:0\n",
            "Epoch : 0,  train loss:0.036102036468121185, test loss:0.061382389536090924\n",
            "Epoch : 1,  train loss:0.03445947671136936, test loss:0.060149552775364296\n",
            "Epoch : 2,  train loss:0.03324641166280966, test loss:0.05872454129013361\n",
            "Epoch : 3,  train loss:0.031506591818245853, test loss:0.05992065925224155\n",
            "Epoch : 4,  train loss:0.030053210859539128, test loss:0.05662436345044304\n",
            "Epoch : 5,  train loss:0.02750354587864809, test loss:0.05092662455988865\n",
            "Epoch : 6,  train loss:0.02563859568256624, test loss:0.04930114044862635\n",
            "Epoch : 7,  train loss:0.023538682975021062, test loss:0.05464331776488061\n",
            "Epoch : 8,  train loss:0.02178181085933824, test loss:0.050379316012064614\n",
            "Epoch : 9,  train loss:0.01958298482814757, test loss:0.05173887925989488\n",
            "Epoch : 10,  train loss:0.017926098585796624, test loss:0.04671888725430358\n",
            "Epoch : 11,  train loss:0.016661375176672842, test loss:0.042391459147135414\n",
            "Epoch : 12,  train loss:0.015616509426875608, test loss:0.04525150972254136\n",
            "Epoch : 13,  train loss:0.01371187589415649, test loss:0.04711149253097235\n",
            "Epoch : 14,  train loss:0.013229422542561335, test loss:0.03506313235152001\n",
            "Epoch : 15,  train loss:0.0119515528865889, test loss:0.03509352487676284\n",
            "Epoch : 16,  train loss:0.010845143087103921, test loss:0.040501886723088285\n",
            "Epoch : 17,  train loss:0.009557328137363038, test loss:0.035380600714216046\n",
            "Epoch : 18,  train loss:0.008389731582139386, test loss:0.031845313661238724\n",
            "Epoch : 19,  train loss:0.008450308767687372, test loss:0.027003391992812063\n",
            "Epoch : 20,  train loss:0.00701120287096467, test loss:0.034911875631295\n",
            "Epoch : 21,  train loss:0.006770214947665773, test loss:0.03770521692201203\n",
            "Epoch : 22,  train loss:0.006297160180009045, test loss:0.027829670438579486\n",
            "Epoch : 23,  train loss:0.006126382938620089, test loss:0.0306187605156618\n",
            "Epoch : 24,  train loss:0.004994756951719439, test loss:0.03302536408106486\n",
            "Epoch : 25,  train loss:0.004478338385830407, test loss:0.03665769567676619\n",
            "Epoch : 26,  train loss:0.004715820570953754, test loss:0.03850656046586878\n",
            "Epoch : 27,  train loss:0.003695192039847708, test loss:0.03199721376101176\n",
            "Epoch : 28,  train loss:0.0033577238144326944, test loss:0.027847350228066538\n",
            "Epoch : 29,  train loss:0.003198270537272221, test loss:0.03993026298635146\n"
          ]
        },
        {
          "output_type": "execute_result",
          "data": {
            "text/plain": [
              "<Figure size 640x480 with 0 Axes>"
            ]
          },
          "metadata": {},
          "execution_count": 31
        },
        {
          "output_type": "display_data",
          "data": {
            "text/plain": [
              "<Figure size 640x480 with 1 Axes>"
            ],
            "image/png": "[encoded data removed]"
          },
          "metadata": {}
        },
        {
          "output_type": "display_data",
          "data": {
            "text/plain": [
              "<Figure size 640x480 with 0 Axes>"
            ]
          },
          "metadata": {}
        }
      ]
    },
    {
      "cell_type": "code",
      "source": [
        "# validate and test\n",
        "\n",
        "loss, acc = evaluate(model, train_loader, error)\n",
        "print(f\"Train Accuracy:{acc}, Train loss:{loss}\")\n",
        "\n",
        "loss, acc = evaluate(model, test_loader, error)\n",
        "print(f\"Test Accuracy:{acc}, Test loss:{loss}\")\n",
        "\n",
        "loss, acc = evaluate(model, val_loader, error)\n",
        "print(f\"Validation Accuracy:{acc}, Validation loss:{loss}\")"
      ],
      "metadata": {
        "id": "oIVAo80VZWpk",
        "colab": {
          "base_uri": "https://localhost:8080/"
        },
        "outputId": "f99ab94a-377f-4d7f-8558-770d7a55ec91"
      },
      "execution_count": null,
      "outputs": [
        {
          "output_type": "stream",
          "name": "stdout",
          "text": [
            "Train Accuracy:0.9551820755004883, Train loss:0.0029920696043500713\n",
            "Test Accuracy:0.37254902720451355, Test loss:0.030371241709765268\n",
            "Validation Accuracy:0.4117647111415863, Validation loss:0.04247189035602644\n"
          ]
        }
      ]
    }
  ]
}