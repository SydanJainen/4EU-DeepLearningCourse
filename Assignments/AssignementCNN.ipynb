{
  "nbformat": 4,
  "nbformat_minor": 0,
  "metadata": {
    "colab": {
      "provenance": [],
      "gpuType": "T4",
      "authorship_tag": "ABX9TyMqKkQ7ZEHQBl2C2+rUUilU",
      "include_colab_link": true
    },
    "kernelspec": {
      "name": "python3",
      "display_name": "Python 3"
    },
    "language_info": {
      "name": "python"
    },
    "accelerator": "GPU"
  },
  "cells": [
    {
      "cell_type": "markdown",
      "metadata": {
        "id": "view-in-github",
        "colab_type": "text"
      },
      "source": [
        "<a href=\"https://colab.research.google.com/github/SydanJainen/4EU-DeepLearningCourse/blob/main/Assignments/AssignementCNN.ipynb\" target=\"_parent\"><img src=\"https://colab.research.google.com/assets/colab-badge.svg\" alt=\"Open In Colab\"/></a>"
      ]
    },
    {
      "cell_type": "markdown",
      "metadata": {
        "id": "sMteOzeJ8hrL"
      },
      "source": [
        "# Assignments\n",
        "\n",
        "### We are given a dataset containing 510 images which are categorized according two main characteristics/properties: “C1” and “C2”. The following inputs are available:\n",
        "* #### `input image', a 110 × 110 × 3 real-valued tensor. The last dimension denotes the number of input channels; the images belong to different combinations of the two properties C1 and C2. For C1 and C2 we have 5 and 6 possible values, respectively;  among the 30 possible couples (C1,C2), we have images for only 24 of them. We have around 20 samples (little more or less) for each of the available couples;  values in each tensor entry are integers in [0, 255];\n",
        "* #### C1, string, the value for the C1 property. 5 possible values;\n",
        "* #### C2, string, the value for the C2 property. 6 possible values.\n",
        "\n",
        "### Design a deep neural network model to predict the class of an image, given by the couple (C1,C2).\n",
        "\n",
        "### Provide a sketch of each of the following points, then implement your solution.\n",
        "1. MODEL: Which architecture do you consider the most appropriate for this task, and why;\n",
        "2. INPUT:\n",
        "* After a potential preprocessing step, which is the input of the model, and\n",
        "how is it represented;\n",
        "3. OUTPUT: How would you design the output layer and why;\n",
        "4. LOSS: Which loss function would you use to train your model and why;\n",
        "5. MODEL CONFIGURATION:\n",
        " Model composition (composition of layers, regardless their number,\n",
        "or their dimension, which can be object of tuning)\n",
        "6. MODEL EVALUATION: How would you assess (in which setting) the\n",
        "generalization capabilities of the model on unseen data?\n"
      ]
    },
    {
      "cell_type": "code",
      "source": [
        "from google.colab import drive\n",
        "drive.mount('/content/drive', force_remount=True)\n",
        "\n",
        "## go to your datapath\n",
        "%cd /content/drive/MyDrive/INSEGNAMENTI/4EU+/\n",
        "\n",
        "# Here you should see the desired files\n",
        "%ls"
      ],
      "metadata": {
        "colab": {
          "base_uri": "https://localhost:8080/"
        },
        "id": "OI9U1PiwZ8EJ",
        "outputId": "4706d2d4-1e8a-4bea-989b-c374e7414506"
      },
      "execution_count": 1,
      "outputs": [
        {
          "output_type": "stream",
          "name": "stdout",
          "text": [
            "Mounted at /content/drive\n",
            "/content/drive/MyDrive/INSEGNAMENTI/4EU+\n",
            "input.pkl\n"
          ]
        }
      ]
    },
    {
      "cell_type": "code",
      "execution_count": 2,
      "metadata": {
        "id": "ApgM0K_w8hrQ",
        "outputId": "d2a1bd24-c33c-4c3a-a41c-a55e6baca7f5",
        "colab": {
          "base_uri": "https://localhost:8080/"
        }
      },
      "outputs": [
        {
          "output_type": "stream",
          "name": "stdout",
          "text": [
            "length image:510\n",
            "length C1:510\n",
            "length C2:510\n"
          ]
        }
      ],
      "source": [
        "import pickle as pk\n",
        "# Open the pickle data\n",
        "with open('input.pkl', 'rb') as f:\n",
        "  data = pk.load(f)\n",
        "\n",
        "images = data['imgs']\n",
        "C1 = data['C1']\n",
        "C2 = data['C2']\n",
        "print(f\"length image:{len(images)}\")\n",
        "print(f\"length C1:{len(C1)}\")\n",
        "print(f\"length C2:{len(C2)}\")"
      ]
    },
    {
      "cell_type": "code",
      "source": [
        "#import\n",
        "import torch\n",
        "import torch.nn as nn\n",
        "import torch.nn.functional as F\n",
        "from torch.autograd import Variable\n",
        "import torchvision\n",
        "from torchvision import transforms\n",
        "\n",
        "\n",
        "import numpy as np\n",
        "import matplotlib.pyplot as plt\n",
        "from torchvision.transforms import ToTensor, Normalize, Compose\n",
        "from torch.utils.data import random_split"
      ],
      "metadata": {
        "id": "E5t2r4xPY7xy"
      },
      "execution_count": 3,
      "outputs": []
    },
    {
      "cell_type": "code",
      "source": [
        "transofm = Compose([ToTensor(),\n",
        "                        Normalize((0,), (1,))])\n",
        "tensor_images = []\n",
        "for i in images :\n",
        "  tensor_images.append(transofm(i))"
      ],
      "metadata": {
        "id": "sPKEIxDxbLzw"
      },
      "execution_count": 4,
      "outputs": []
    },
    {
      "cell_type": "code",
      "source": [
        "for a in np.unique(C1):\n",
        "  print(a)"
      ],
      "metadata": {
        "colab": {
          "base_uri": "https://localhost:8080/"
        },
        "id": "Y_9ZK3RfIRE9",
        "outputId": "9460ab5f-29f1-40d3-d9f8-7cf7af4cb136"
      },
      "execution_count": 5,
      "outputs": [
        {
          "output_type": "stream",
          "name": "stdout",
          "text": [
            "dress\n",
            "pants\n",
            "shirt\n",
            "shoes\n",
            "shorts\n"
          ]
        }
      ]
    },
    {
      "cell_type": "code",
      "source": [
        "for a in np.unique(C2):\n",
        "  print(a)"
      ],
      "metadata": {
        "colab": {
          "base_uri": "https://localhost:8080/"
        },
        "id": "3o2q8J0jKzR5",
        "outputId": "46a1cc0f-4b2d-48f1-f684-ee992b3890ba"
      },
      "execution_count": 6,
      "outputs": [
        {
          "output_type": "stream",
          "name": "stdout",
          "text": [
            "black\n",
            "blue\n",
            "brown\n",
            "green\n",
            "red\n",
            "white\n"
          ]
        }
      ]
    },
    {
      "cell_type": "code",
      "source": [
        "main_dataset = zip(tensor_images, C1, C2)\n",
        "\n",
        "label_combinations = {}\n",
        "for i, (c1, c2) in enumerate(zip(C1, C2)):\n",
        "    label_combinations[i] = f\"{c1} {c2}\"\n",
        "\n",
        "unique_labels = set(label_combinations.values())\n",
        "label_to_index = {label: i for i, label in enumerate(unique_labels)}\n",
        "print(label_to_index)\n",
        "\n",
        "enumerated_dataset = []\n",
        "for i, (tensor_images, c1, c2) in enumerate(zip(tensor_images, C1, C2)):\n",
        "  label_combination = f\"{c1} {c2}\"\n",
        "  label_index = label_to_index[label_combination]\n",
        "  enumerated_dataset.append((tensor_images, label_index))\n",
        "\n",
        "print(len(enumerated_dataset))"
      ],
      "metadata": {
        "colab": {
          "base_uri": "https://localhost:8080/"
        },
        "id": "tzlpo6nuPlX4",
        "outputId": "32dc12a5-ccc9-4208-c721-083f515de153"
      },
      "execution_count": 7,
      "outputs": [
        {
          "output_type": "stream",
          "name": "stdout",
          "text": [
            "{'shoes black': 0, 'shoes brown': 1, 'dress blue': 2, 'dress white': 3, 'pants blue': 4, 'shorts blue': 5, 'pants green': 6, 'shirt green': 7, 'pants red': 8, 'shorts white': 9, 'shorts black': 10, 'shorts brown': 11, 'pants black': 12, 'shirt blue': 13, 'shoes green': 14, 'pants white': 15, 'shoes red': 16, 'shorts green': 17, 'dress red': 18, 'shoes blue': 19, 'dress black': 20, 'pants brown': 21, 'shoes white': 22, 'shirt black': 23}\n",
            "510\n"
          ]
        }
      ]
    },
    {
      "cell_type": "code",
      "source": [
        "BATCH_SIZE = 30\n",
        "\n",
        "train_size = int(0.7 * len(enumerated_dataset))\n",
        "val_size = int(0.1 * len(enumerated_dataset))\n",
        "test_size = len(enumerated_dataset) - train_size - val_size\n",
        "\n",
        "train_dataset, val_dataset, test_dataset = torch.utils.data.random_split(enumerated_dataset, [train_size, val_size, test_size])\n",
        "\n",
        "train_loader = torch.utils.data.DataLoader(train_dataset, batch_size=BATCH_SIZE, shuffle=True)\n",
        "val_loader = torch.utils.data.DataLoader(val_dataset, batch_size=BATCH_SIZE, shuffle=False)\n",
        "test_loader = torch.utils.data.DataLoader(test_dataset, batch_size=BATCH_SIZE, shuffle=False)"
      ],
      "metadata": {
        "id": "LwPZKxDbZQb2"
      },
      "execution_count": 8,
      "outputs": []
    },
    {
      "cell_type": "code",
      "source": [
        "def dimension(N,P,S,F) :\n",
        "  return (int((N + (2*P) - F)/ S) + 1)"
      ],
      "metadata": {
        "id": "pMz5W88eDujv"
      },
      "execution_count": 9,
      "outputs": []
    },
    {
      "cell_type": "code",
      "source": [
        "class CNN(nn.Module):\n",
        "    def __init__(self, kernel_size, stride, padding, pooling_strategy, dropout_rate):\n",
        "        super(CNN, self).__init__()\n",
        "        self.conv1 = nn.Conv2d(in_channels=3,\n",
        "                               out_channels=32,\n",
        "                               kernel_size = kernel_size,\n",
        "                               stride=stride,\n",
        "                               padding=padding)\n",
        "        dim1 = dimension(110, padding, stride, kernel_size)\n",
        "        #print(dim1)\n",
        "        self.conv2 = nn.Conv2d(32, 64, kernel_size, stride, padding)\n",
        "        dim2 = dimension(dim1, padding, stride, kernel_size)\n",
        "        #print(dim2)\n",
        "        if pooling_strategy == \"mean\" :\n",
        "          self.pool2d = nn.AvgPool2d(kernel_size=2, stride=2)\n",
        "        elif pooling_strategy == \"max\" :\n",
        "          self.pool2d = nn.MaxPool2d(kernel_size=2, stride=2)\n",
        "        else :\n",
        "          raise Exception()\n",
        "        dim3 = int(((dim2-2)/2 +1) * ((dim2-2)/2 +1) * 64) # 'same' = dim3\n",
        "        #print(dim3)\n",
        "        self.dropout1 = nn.Dropout(dropout_rate)\n",
        "        self.fc1 = nn.Linear(dim3, 128)\n",
        "        self.dropout2 = nn.Dropout(dropout_rate)\n",
        "        self.fc2 = nn.Linear(128, 30)\n",
        "\n",
        "    def forward(self, x):\n",
        "        x = self.conv1(x)\n",
        "        x = F.relu(x)\n",
        "        x = self.conv2(x)\n",
        "        x = F.relu(x)\n",
        "        x = self.pool2d(x)\n",
        "        x = self.dropout1(x)\n",
        "        x = torch.flatten(x, 1)\n",
        "        x = self.fc1(x)\n",
        "        x = F.relu(x)\n",
        "        x = self.dropout2(x)\n",
        "        x = self.fc2(x)\n",
        "        output = F.log_softmax(x, dim=1)\n",
        "        return output\n",
        "\n",
        "kernel_size_list = [3, 4, 5]\n",
        "stride = 1\n",
        "padding = 0\n",
        "pooling_strategy_list = ['mean', 'max']\n",
        "dropout_rate_list = [0, 0.1, 0.25]"
      ],
      "metadata": {
        "id": "vUdueaJfuPCC"
      },
      "execution_count": 10,
      "outputs": []
    },
    {
      "cell_type": "code",
      "source": [
        "# Computing the accuracy of a test set\n",
        "def evaluate(model, test_loader, error):\n",
        "#model = mlpinplace=False\n",
        "    correct = 0\n",
        "    cur_loss = 0;\n",
        "\n",
        "    for test_imgs, test_labels in test_loader:\n",
        "        test_imgs, test_labels = test_imgs.cuda(), test_labels.cuda()\n",
        "        output = model(test_imgs)\n",
        "        loss = error(output, test_labels)\n",
        "        cur_loss+=loss.item()\n",
        "        predicted = torch.max(output,1)[1]\n",
        "        correct += (predicted == test_labels).sum()\n",
        "    return cur_loss/len(test_loader.dataset), correct/len(test_loader.dataset)\n",
        "\n",
        "\n",
        "\n",
        "def fit(model, train_loader, error, test_loader, epochs):\n",
        "    optimizer = torch.optim.Adam(model.parameters(),lr=0.0001)#,lr=0.001, betas=(0.9,0.999))\n",
        "    model.train()\n",
        "    train_losses = []\n",
        "    test_losses = []\n",
        "\n",
        "    for epoch in range(epochs):\n",
        "        cur_loss = 0;\n",
        "        correct = 0\n",
        "        for X_batch, y_batch in train_loader:\n",
        "            if dev == \"cpu\":\n",
        "              X_batch, y_batch = X_batch.cpu(), y_batch.cpu()\n",
        "            else:\n",
        "              X_batch, y_batch = X_batch.cuda(), y_batch.cuda()\n",
        "            optimizer.zero_grad()\n",
        "            output = model(X_batch)\n",
        "            loss = error(output, y_batch)\n",
        "            cur_loss+= loss.item()\n",
        "            loss.backward()\n",
        "            optimizer.step()\n",
        "\n",
        "        train_losses.append(cur_loss/len(train_loader.dataset))\n",
        "\n",
        "        test_loss, _ = evaluate(model, test_loader, error)\n",
        "        test_losses.append(test_loss)\n",
        "        print(f'Epoch : {epoch},  train loss:{train_losses[-1]}, test loss:{test_losses[-1]}')\n",
        "\n",
        "    return train_losses, test_losses"
      ],
      "metadata": {
        "id": "KswJYORFuor3"
      },
      "execution_count": 11,
      "outputs": []
    },
    {
      "cell_type": "code",
      "source": [
        "import os\n",
        "os.environ['CUDA_LAUNCH_BLOCKING'] = \"1\""
      ],
      "metadata": {
        "id": "L5WJ0nMU-Vxc"
      },
      "execution_count": 12,
      "outputs": []
    },
    {
      "cell_type": "code",
      "source": [
        "\n",
        "error = nn.CrossEntropyLoss()\n",
        "## We use validation data to select the best hyperparameters\n",
        "## Fewer epochs to speed-up\n",
        "epochs = 5\n",
        "### initializing best config\n",
        "best_accval = 0\n",
        "best_ks = -1\n",
        "best_pool = \"\"\n",
        "best_dr = -1\n",
        "for kernel_size in kernel_size_list:\n",
        "  for pooling_strategy in pooling_strategy_list:\n",
        "    for dropout_rate in dropout_rate_list:\n",
        "\n",
        "      model = CNN(kernel_size, stride, padding, pooling_strategy, dropout_rate)\n",
        "      print(f\"kernel size:{kernel_size}, pooling:{pooling_strategy},\\\n",
        "                  dropout rate:{dropout_rate}\")\n",
        "\n",
        "      it = iter(train_loader)\n",
        "      X_batch, y_batch = next(it)\n",
        "\n",
        "      if torch.cuda.is_available():\n",
        "        dev = \"cuda:0\"\n",
        "        model.cuda()\n",
        "      else:\n",
        "        dev = \"cpu\"\n",
        "        model.cpu()\n",
        "      device = torch.device(dev)\n",
        "\n",
        "\n",
        "      train_losses, test_losses = fit(model,train_loader, error, val_loader, epochs)\n",
        "\n",
        "      loss, acc = evaluate(model, train_loader, error)\n",
        "      print(f\"\\tTrain Accuracy:{acc}, Train loss:{loss}\")\n",
        "\n",
        "      loss, acc = evaluate(model, val_loader, error)\n",
        "      print(f\"\\tValidation Accuracy:{acc}, Validation loss:{loss}\")\n",
        "      if acc > best_accval:\n",
        "        best_accval = acc\n",
        "        best_ks = kernel_size\n",
        "        best_pool = pooling_strategy\n",
        "        best_dr = dropout_rate\n",
        "\n",
        "      print(\"\\n\\n\")"
      ],
      "metadata": {
        "colab": {
          "base_uri": "https://localhost:8080/"
        },
        "id": "Z7qaXTRbZTJ6",
        "outputId": "0b52659a-c07f-477c-9271-e3f7c45c2757"
      },
      "execution_count": 13,
      "outputs": [
        {
          "output_type": "stream",
          "name": "stdout",
          "text": [
            "kernel size:3, pooling:mean,                  dropout rate:0\n",
            "Epoch : 0,  train loss:0.11063179248521308, test loss:0.12385350582646389\n",
            "Epoch : 1,  train loss:0.09762561221082672, test loss:0.1128545695660161\n",
            "Epoch : 2,  train loss:0.08437686741185121, test loss:0.10044198410183776\n",
            "Epoch : 3,  train loss:0.07295190019099987, test loss:0.09024972541659486\n",
            "Epoch : 4,  train loss:0.06260450681050618, test loss:0.0833359115263995\n",
            "\tTrain Accuracy:0.5630252361297607, Train loss:0.05527310878956685\n",
            "\tValidation Accuracy:0.4313725531101227, Validation loss:0.0833359115263995\n",
            "\n",
            "\n",
            "\n",
            "kernel size:3, pooling:mean,                  dropout rate:0.1\n",
            "Epoch : 0,  train loss:0.11408271976545745, test loss:0.12996288841845943\n",
            "Epoch : 1,  train loss:0.10627305340700123, test loss:0.12312807756311753\n",
            "Epoch : 2,  train loss:0.09888509875919972, test loss:0.11326481314266429\n",
            "Epoch : 3,  train loss:0.09046808811796814, test loss:0.10024400785857555\n",
            "Epoch : 4,  train loss:0.0822277690182213, test loss:0.09249614266788259\n",
            "\tTrain Accuracy:0.34173670411109924, Train loss:0.07592875950810622\n",
            "\tValidation Accuracy:0.2352941334247589, Validation loss:0.0967712075102563\n",
            "\n",
            "\n",
            "\n",
            "kernel size:3, pooling:mean,                  dropout rate:0.25\n",
            "Epoch : 0,  train loss:0.11334660607559674, test loss:0.13019560832603305\n",
            "Epoch : 1,  train loss:0.10595370073612331, test loss:0.11823911292880189\n",
            "Epoch : 2,  train loss:0.09924412975792124, test loss:0.11285630394430722\n",
            "Epoch : 3,  train loss:0.09254368947667568, test loss:0.10445961765214509\n",
            "Epoch : 4,  train loss:0.08537622459796297, test loss:0.10222705205281575\n",
            "\tTrain Accuracy:0.31092438101768494, Train loss:0.0811123206835835\n",
            "\tValidation Accuracy:0.2549019753932953, Validation loss:0.09993346532185872\n",
            "\n",
            "\n",
            "\n",
            "kernel size:3, pooling:max,                  dropout rate:0\n",
            "Epoch : 0,  train loss:0.11230278349056297, test loss:0.12392104373258703\n",
            "Epoch : 1,  train loss:0.09990887815544919, test loss:0.11386943798439175\n",
            "Epoch : 2,  train loss:0.0852001020554401, test loss:0.10019680097991344\n",
            "Epoch : 3,  train loss:0.07249791481915642, test loss:0.09547196182550169\n",
            "Epoch : 4,  train loss:0.062182497243587376, test loss:0.08197850807040345\n",
            "\tTrain Accuracy:0.6414566040039062, Train loss:0.05184411301332362\n",
            "\tValidation Accuracy:0.3529411852359772, Validation loss:0.08197850807040345\n",
            "\n",
            "\n",
            "\n",
            "kernel size:3, pooling:max,                  dropout rate:0.1\n",
            "Epoch : 0,  train loss:0.11488689628301882, test loss:0.12547949716156603\n",
            "Epoch : 1,  train loss:0.10433447461168305, test loss:0.12008789473888921\n",
            "Epoch : 2,  train loss:0.09520757899564855, test loss:0.1078345074373133\n",
            "Epoch : 3,  train loss:0.08462757623496175, test loss:0.10380700522778082\n",
            "Epoch : 4,  train loss:0.0762387978262594, test loss:0.0938725004009172\n",
            "\tTrain Accuracy:0.40616247057914734, Train loss:0.07091906190920277\n",
            "\tValidation Accuracy:0.21568627655506134, Validation loss:0.09657821468278474\n",
            "\n",
            "\n",
            "\n",
            "kernel size:3, pooling:max,                  dropout rate:0.25\n",
            "Epoch : 0,  train loss:0.11386084756931338, test loss:0.12571296504899568\n",
            "Epoch : 1,  train loss:0.10591881215071478, test loss:0.12521022441340426\n",
            "Epoch : 2,  train loss:0.1003765285182066, test loss:0.11796261750015558\n",
            "Epoch : 3,  train loss:0.09405492267020944, test loss:0.11673285914402382\n",
            "Epoch : 4,  train loss:0.08788271711654022, test loss:0.10665204945732565\n",
            "\tTrain Accuracy:0.26050421595573425, Train loss:0.08461103385903922\n",
            "\tValidation Accuracy:0.19607843458652496, Validation loss:0.10695129282334272\n",
            "\n",
            "\n",
            "\n",
            "kernel size:4, pooling:mean,                  dropout rate:0\n",
            "Epoch : 0,  train loss:0.11227056759746135, test loss:0.12413607391656614\n",
            "Epoch : 1,  train loss:0.09891746825530749, test loss:0.1107462948443843\n",
            "Epoch : 2,  train loss:0.08246638861690916, test loss:0.09485775816674326\n",
            "Epoch : 3,  train loss:0.06598912667827446, test loss:0.08822561712825999\n",
            "Epoch : 4,  train loss:0.05613634265771433, test loss:0.07570920271031997\n",
            "\tTrain Accuracy:0.6022409200668335, Train loss:0.04677342266595664\n",
            "\tValidation Accuracy:0.3529411852359772, Validation loss:0.07570920271031997\n",
            "\n",
            "\n",
            "\n",
            "kernel size:4, pooling:mean,                  dropout rate:0.1\n",
            "Epoch : 0,  train loss:0.11149985983926042, test loss:0.12456704588497386\n",
            "Epoch : 1,  train loss:0.10064827360692813, test loss:0.11372739193486232\n",
            "Epoch : 2,  train loss:0.08837380663019602, test loss:0.09940116545733284\n",
            "Epoch : 3,  train loss:0.07842716983720369, test loss:0.0909559492971383\n",
            "Epoch : 4,  train loss:0.07080232629589006, test loss:0.08748024585200291\n",
            "\tTrain Accuracy:0.42016807198524475, Train loss:0.06571509791355507\n",
            "\tValidation Accuracy:0.4117647111415863, Validation loss:0.08707245658425723\n",
            "\n",
            "\n",
            "\n",
            "kernel size:4, pooling:mean,                  dropout rate:0.25\n",
            "Epoch : 0,  train loss:0.11377453336528703, test loss:0.12696335362453087\n",
            "Epoch : 1,  train loss:0.10490356039266292, test loss:0.11444365277009852\n",
            "Epoch : 2,  train loss:0.09774641963948055, test loss:0.1097878194322773\n",
            "Epoch : 3,  train loss:0.09038451071880779, test loss:0.10657931309120328\n",
            "Epoch : 4,  train loss:0.08354213725285035, test loss:0.09582853784748152\n",
            "\tTrain Accuracy:0.3641456663608551, Train loss:0.07557424911263944\n",
            "\tValidation Accuracy:0.2352941334247589, Validation loss:0.09850142516341864\n",
            "\n",
            "\n",
            "\n",
            "kernel size:4, pooling:max,                  dropout rate:0\n",
            "Epoch : 0,  train loss:0.11182878197742109, test loss:0.12565402423634248\n",
            "Epoch : 1,  train loss:0.10189826949303891, test loss:0.11813130565718108\n",
            "Epoch : 2,  train loss:0.09180869775659897, test loss:0.10747903936049517\n",
            "Epoch : 3,  train loss:0.08081002395693995, test loss:0.09726621122921214\n",
            "Epoch : 4,  train loss:0.07176774256035727, test loss:0.09025810279098212\n",
            "\tTrain Accuracy:0.3781512677669525, Train loss:0.06514395084701666\n",
            "\tValidation Accuracy:0.21568627655506134, Validation loss:0.09025810279098212\n",
            "\n",
            "\n",
            "\n",
            "kernel size:4, pooling:max,                  dropout rate:0.1\n",
            "Epoch : 0,  train loss:0.11251840604787447, test loss:0.1260361250709085\n",
            "Epoch : 1,  train loss:0.10111643753799737, test loss:0.11515548182468788\n",
            "Epoch : 2,  train loss:0.09052991933849346, test loss:0.107239330516142\n",
            "Epoch : 3,  train loss:0.07873388765906754, test loss:0.094359697080126\n",
            "Epoch : 4,  train loss:0.06621262005397252, test loss:0.08244006774004768\n",
            "\tTrain Accuracy:0.5714285969734192, Train loss:0.05633483246928837\n",
            "\tValidation Accuracy:0.45098039507865906, Validation loss:0.08080588368808522\n",
            "\n",
            "\n",
            "\n",
            "kernel size:4, pooling:max,                  dropout rate:0.25\n",
            "Epoch : 0,  train loss:0.1115134029495282, test loss:0.13092253722396552\n",
            "Epoch : 1,  train loss:0.10500867894383706, test loss:0.12088942060283586\n",
            "Epoch : 2,  train loss:0.0967120269433457, test loss:0.11135721206665039\n",
            "Epoch : 3,  train loss:0.08662560473637086, test loss:0.10053641655865837\n",
            "Epoch : 4,  train loss:0.07884187925429571, test loss:0.10015034675598145\n",
            "\tTrain Accuracy:0.38935574889183044, Train loss:0.07410506741339419\n",
            "\tValidation Accuracy:0.27450981736183167, Validation loss:0.10176443586162492\n",
            "\n",
            "\n",
            "\n",
            "kernel size:5, pooling:mean,                  dropout rate:0\n",
            "Epoch : 0,  train loss:0.11081315289024546, test loss:0.12269723181631051\n",
            "Epoch : 1,  train loss:0.1003414369096943, test loss:0.11030248099682378\n",
            "Epoch : 2,  train loss:0.08801464006012562, test loss:0.10208023295683019\n",
            "Epoch : 3,  train loss:0.07503193767130875, test loss:0.08486064742593204\n",
            "Epoch : 4,  train loss:0.06034904634919153, test loss:0.07767105336282767\n",
            "\tTrain Accuracy:0.6134454011917114, Train loss:0.05059303622953698\n",
            "\tValidation Accuracy:0.3137255012989044, Validation loss:0.07767105336282767\n",
            "\n",
            "\n",
            "\n",
            "kernel size:5, pooling:mean,                  dropout rate:0.1\n",
            "Epoch : 0,  train loss:0.11345104075947396, test loss:0.12813913588430367\n",
            "Epoch : 1,  train loss:0.10291402012694116, test loss:0.11728081983678482\n",
            "Epoch : 2,  train loss:0.09159450170372714, test loss:0.10386472589829389\n",
            "Epoch : 3,  train loss:0.08154183075207622, test loss:0.09378475301405963\n",
            "Epoch : 4,  train loss:0.07083924744977337, test loss:0.08723503234339695\n",
            "\tTrain Accuracy:0.4425770342350006, Train loss:0.06321185710383397\n",
            "\tValidation Accuracy:0.3333333432674408, Validation loss:0.09116903473349179\n",
            "\n",
            "\n",
            "\n",
            "kernel size:5, pooling:mean,                  dropout rate:0.25\n",
            "Epoch : 0,  train loss:0.11417078971862793, test loss:0.12910539028691312\n",
            "Epoch : 1,  train loss:0.10415870535607431, test loss:0.11588021353179333\n",
            "Epoch : 2,  train loss:0.09347987575691287, test loss:0.10363524567847159\n",
            "Epoch : 3,  train loss:0.07937712495734378, test loss:0.09454925855000813\n",
            "Epoch : 4,  train loss:0.07131772014607235, test loss:0.08452349083096374\n",
            "\tTrain Accuracy:0.5042017102241516, Train loss:0.061558833643167964\n",
            "\tValidation Accuracy:0.4313725531101227, Validation loss:0.0869452953338623\n",
            "\n",
            "\n",
            "\n",
            "kernel size:5, pooling:max,                  dropout rate:0\n",
            "Epoch : 0,  train loss:0.11132396770124676, test loss:0.12032420962464575\n",
            "Epoch : 1,  train loss:0.09587331913432487, test loss:0.10439758207283768\n",
            "Epoch : 2,  train loss:0.07701459585451613, test loss:0.08687173151502423\n",
            "Epoch : 3,  train loss:0.05995855645305302, test loss:0.07231785269344554\n",
            "Epoch : 4,  train loss:0.04884637337104947, test loss:0.06577000664729699\n",
            "\tTrain Accuracy:0.7058823704719543, Train loss:0.03846817574247259\n",
            "\tValidation Accuracy:0.5098039507865906, Validation loss:0.06577000664729699\n",
            "\n",
            "\n",
            "\n",
            "kernel size:5, pooling:max,                  dropout rate:0.1\n",
            "Epoch : 0,  train loss:0.11318132389827269, test loss:0.1306273469737932\n",
            "Epoch : 1,  train loss:0.10503878045816716, test loss:0.11998990002800436\n",
            "Epoch : 2,  train loss:0.09553704942975726, test loss:0.10363198261634976\n",
            "Epoch : 3,  train loss:0.08420322856315378, test loss:0.10197000877529967\n",
            "Epoch : 4,  train loss:0.07015788955848758, test loss:0.08809733390808105\n",
            "\tTrain Accuracy:0.49859943985939026, Train loss:0.06096384438479982\n",
            "\tValidation Accuracy:0.3333333432674408, Validation loss:0.08632374277301863\n",
            "\n",
            "\n",
            "\n",
            "kernel size:5, pooling:max,                  dropout rate:0.25\n",
            "Epoch : 0,  train loss:0.11460468882606142, test loss:0.1305099795846378\n",
            "Epoch : 1,  train loss:0.10764105780785825, test loss:0.12625393213010302\n",
            "Epoch : 2,  train loss:0.10155471099191019, test loss:0.11487109520856072\n",
            "Epoch : 3,  train loss:0.09217490068002909, test loss:0.11045311946494907\n",
            "Epoch : 4,  train loss:0.08927991543831278, test loss:0.10664355988596\n",
            "\tTrain Accuracy:0.29131653904914856, Train loss:0.08171786781118698\n",
            "\tValidation Accuracy:0.21568627655506134, Validation loss:0.10654824855280857\n",
            "\n",
            "\n",
            "\n"
          ]
        }
      ]
    },
    {
      "cell_type": "code",
      "source": [
        "print(f\"best configuration: kernel size:{best_ks}, pooling:{best_pool},\\\n",
        "                  dropuout rate:{best_dr}\")\n",
        "# Pick the best model and verify its performance on the test set\n",
        "model = CNN(best_ks, stride, padding, best_pool, best_dr)\n",
        "\n",
        "#it = iter(train_dataloader)\n",
        "#X_batch, y_batch = next(it)\n",
        "\n",
        "if torch.cuda.is_available():\n",
        "  dev = \"cuda:0\"\n",
        "else:\n",
        "  dev = \"cpu\"\n",
        "device = torch.device(dev)\n",
        "\n",
        "model.cuda()\n",
        "## we set again more epochs for the final training.\n",
        "## Note that here we could integrate the validaiton data in the training set\n",
        "epochs = 15\n",
        "train_losses, test_losses = fit(model,train_loader, error, test_loader, epochs)\n",
        "\n",
        "loss, acc = evaluate(model, test_loader, error)\n",
        "print(f\"Test Accuracy:{acc}, Test loss:{loss}\")\n",
        "\n",
        "plt.plot(train_losses,label=\"training loss\")\n",
        "plt.plot(test_losses,label=\"testing loss\")\n",
        "plt.legend(fontsize=15)\n",
        "plt.xlabel('Epoch', fontsize=20)\n",
        "plt.ylabel('Loss', fontsize=20)\n",
        "plt.xticks(fontsize=15)\n",
        "plt.yticks(fontsize=15)\n",
        "plt.figure()"
      ],
      "metadata": {
        "id": "hrMWNW17ZUd_",
        "outputId": "a346c5e3-2978-44df-c294-cfa07eac6879",
        "colab": {
          "base_uri": "https://localhost:8080/",
          "height": 805
        }
      },
      "execution_count": 15,
      "outputs": [
        {
          "output_type": "stream",
          "name": "stdout",
          "text": [
            "best configuration: kernel size:5, pooling:max,                  dropuout rate:0\n",
            "Epoch : 0,  train loss:0.1121071914330918, test loss:0.12410099132388246\n",
            "Epoch : 1,  train loss:0.09804792364104455, test loss:0.11082649230957031\n",
            "Epoch : 2,  train loss:0.0836413834943157, test loss:0.09610849034552481\n",
            "Epoch : 3,  train loss:0.06975508871532622, test loss:0.08898554362502753\n",
            "Epoch : 4,  train loss:0.05529015137701809, test loss:0.07532300551732381\n",
            "Epoch : 5,  train loss:0.044211095621605884, test loss:0.07631655417236627\n",
            "Epoch : 6,  train loss:0.03840613782572813, test loss:0.0699462797127518\n",
            "Epoch : 7,  train loss:0.031828557910705484, test loss:0.06568724384494856\n",
            "Epoch : 8,  train loss:0.0235647832980009, test loss:0.058634387511833044\n",
            "Epoch : 9,  train loss:0.018323839378624068, test loss:0.06022073357712989\n",
            "Epoch : 10,  train loss:0.01535351294763282, test loss:0.056714441262039485\n",
            "Epoch : 11,  train loss:0.011601141479168953, test loss:0.06125546086068247\n",
            "Epoch : 12,  train loss:0.009523650511306207, test loss:0.06176214124642167\n",
            "Epoch : 13,  train loss:0.007325902059465563, test loss:0.06142170055239808\n",
            "Epoch : 14,  train loss:0.005505577376743658, test loss:0.059336463610331215\n",
            "Test Accuracy:0.5784313678741455, Test loss:0.059336463610331215\n"
          ]
        },
        {
          "output_type": "execute_result",
          "data": {
            "text/plain": [
              "<Figure size 640x480 with 0 Axes>"
            ]
          },
          "metadata": {},
          "execution_count": 15
        },
        {
          "output_type": "display_data",
          "data": {
            "text/plain": [
              "<Figure size 640x480 with 1 Axes>"
            ],
            "image/png": "[encoded data removed]"
          },
          "metadata": {}
        },
        {
          "output_type": "display_data",
          "data": {
            "text/plain": [
              "<Figure size 640x480 with 0 Axes>"
            ]
          },
          "metadata": {}
        }
      ]
    },
    {
      "cell_type": "code",
      "source": [
        "# validate and test\n",
        "\n",
        "loss, acc = evaluate(model, train_loader, error)\n",
        "print(f\"Train Accuracy:{acc}, Train loss:{loss}\")\n",
        "\n",
        "loss, acc = evaluate(model, test_loader, error)\n",
        "print(f\"Test Accuracy:{acc}, Test loss:{loss}\")\n",
        "\n",
        "loss, acc = evaluate(model, val_loader, error)\n",
        "print(f\"Validation Accuracy:{acc}, Validation loss:{loss}\")"
      ],
      "metadata": {
        "id": "oIVAo80VZWpk",
        "colab": {
          "base_uri": "https://localhost:8080/"
        },
        "outputId": "4a4cf480-6d25-4251-c756-d986203ba52b"
      },
      "execution_count": 16,
      "outputs": [
        {
          "output_type": "stream",
          "name": "stdout",
          "text": [
            "Train Accuracy:0.9747899174690247, Train loss:0.005907506188925575\n",
            "Test Accuracy:0.5784313678741455, Test loss:0.059336463610331215\n",
            "Validation Accuracy:0.4901961088180542, Validation loss:0.06432717921687107\n"
          ]
        }
      ]
    }
  ]
}