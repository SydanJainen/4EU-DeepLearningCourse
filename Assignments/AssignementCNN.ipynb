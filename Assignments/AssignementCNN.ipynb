{
  "nbformat": 4,
  "nbformat_minor": 0,
  "metadata": {
    "colab": {
      "provenance": [],
      "gpuType": "T4",
      "authorship_tag": "ABX9TyOAzhJrApoYdsKOZuMdy5/I",
      "include_colab_link": true
    },
    "kernelspec": {
      "name": "python3",
      "display_name": "Python 3"
    },
    "language_info": {
      "name": "python"
    },
    "accelerator": "GPU"
  },
  "cells": [
    {
      "cell_type": "markdown",
      "metadata": {
        "id": "view-in-github",
        "colab_type": "text"
      },
      "source": [
        "<a href=\"https://colab.research.google.com/github/SydanJainen/4EU-DeepLearningCourse/blob/main/Assignments/AssignementCNN.ipynb\" target=\"_parent\"><img src=\"https://colab.research.google.com/assets/colab-badge.svg\" alt=\"Open In Colab\"/></a>"
      ]
    },
    {
      "cell_type": "markdown",
      "metadata": {
        "id": "sMteOzeJ8hrL"
      },
      "source": [
        "# Assignments\n",
        "\n",
        "### We are given a dataset containing 510 images which are categorized according two main characteristics/properties: “C1” and “C2”. The following inputs are available:\n",
        "* #### `input image', a 110 × 110 × 3 real-valued tensor. The last dimension denotes the number of input channels; the images belong to different combinations of the two properties C1 and C2. For C1 and C2 we have 5 and 6 possible values, respectively;  among the 30 possible couples (C1,C2), we have images for only 24 of them. We have around 20 samples (little more or less) for each of the available couples;  values in each tensor entry are integers in [0, 255];\n",
        "* #### C1, string, the value for the C1 property. 5 possible values;\n",
        "* #### C2, string, the value for the C2 property. 6 possible values.\n",
        "\n",
        "### Design a deep neural network model to predict the class of an image, given by the couple (C1,C2).\n",
        "\n",
        "### Provide a sketch of each of the following points, then implement your solution.\n",
        "1. MODEL: Which architecture do you consider the most appropriate for this task, and why;\n",
        "2. INPUT:\n",
        "* After a potential preprocessing step, which is the input of the model, and\n",
        "how is it represented;\n",
        "3. OUTPUT: How would you design the output layer and why;\n",
        "4. LOSS: Which loss function would you use to train your model and why;\n",
        "5. MODEL CONFIGURATION:\n",
        " Model composition (composition of layers, regardless their number,\n",
        "or their dimension, which can be object of tuning)\n",
        "6. MODEL EVALUATION: How would you assess (in which setting) the\n",
        "generalization capabilities of the model on unseen data?\n"
      ]
    },
    {
      "cell_type": "code",
      "source": [
        "from google.colab import drive\n",
        "drive.mount('/content/drive', force_remount=True)\n",
        "\n",
        "## go to your datapath\n",
        "%cd /content/drive/MyDrive/INSEGNAMENTI/4EU+/\n",
        "\n",
        "# Here you should see the desired files\n",
        "%ls"
      ],
      "metadata": {
        "colab": {
          "base_uri": "https://localhost:8080/"
        },
        "id": "OI9U1PiwZ8EJ",
        "outputId": "7e3bfc1e-6a1d-4e1f-e5f8-c943c739eb54"
      },
      "execution_count": 4,
      "outputs": [
        {
          "output_type": "stream",
          "name": "stdout",
          "text": [
            "Mounted at /content/drive\n",
            "/content/drive/MyDrive/INSEGNAMENTI/4EU+\n",
            "input.pkl\n"
          ]
        }
      ]
    },
    {
      "cell_type": "code",
      "execution_count": 5,
      "metadata": {
        "id": "ApgM0K_w8hrQ",
        "outputId": "598b98c2-bbf6-4f05-c683-2d039e61291a",
        "colab": {
          "base_uri": "https://localhost:8080/"
        }
      },
      "outputs": [
        {
          "output_type": "stream",
          "name": "stdout",
          "text": [
            "length image:510\n",
            "length C1:510\n",
            "length C2:510\n"
          ]
        }
      ],
      "source": [
        "import pickle as pk\n",
        "# Open the pickle data\n",
        "with open('input.pkl', 'rb') as f:\n",
        "  data = pk.load(f)\n",
        "\n",
        "images = data['imgs']\n",
        "C1 = data['C1']\n",
        "C2 = data['C2']\n",
        "print(f\"length image:{len(images)}\")\n",
        "print(f\"length C1:{len(C1)}\")\n",
        "print(f\"length C2:{len(C2)}\")"
      ]
    },
    {
      "cell_type": "code",
      "source": [
        "#import\n",
        "import torch\n",
        "import torch.nn as nn\n",
        "import torch.nn.functional as F\n",
        "from torch.autograd import Variable\n",
        "import torchvision\n",
        "from torchvision import transforms\n",
        "\n",
        "\n",
        "import numpy as np\n",
        "import matplotlib.pyplot as plt\n",
        "from torchvision.transforms import ToTensor, Normalize, Compose\n",
        "from torch.utils.data import random_split"
      ],
      "metadata": {
        "id": "E5t2r4xPY7xy"
      },
      "execution_count": 35,
      "outputs": []
    },
    {
      "cell_type": "code",
      "source": [
        "transofm = Compose([ToTensor(),\n",
        "                        Normalize((0,), (1,))])\n",
        "tensor_images = []\n",
        "for i in images :\n",
        "  tensor_images.append(transofm(i))"
      ],
      "metadata": {
        "id": "sPKEIxDxbLzw"
      },
      "execution_count": 36,
      "outputs": []
    },
    {
      "cell_type": "code",
      "source": [
        "for a in np.unique(C1):\n",
        "  print(a)"
      ],
      "metadata": {
        "colab": {
          "base_uri": "https://localhost:8080/"
        },
        "id": "Y_9ZK3RfIRE9",
        "outputId": "82050322-94e5-48b1-dd81-5fa88e377eb4"
      },
      "execution_count": 37,
      "outputs": [
        {
          "output_type": "stream",
          "name": "stdout",
          "text": [
            "dress\n",
            "pants\n",
            "shirt\n",
            "shoes\n",
            "shorts\n"
          ]
        }
      ]
    },
    {
      "cell_type": "code",
      "source": [
        "for a in np.unique(C2):\n",
        "  print(a)"
      ],
      "metadata": {
        "colab": {
          "base_uri": "https://localhost:8080/"
        },
        "id": "3o2q8J0jKzR5",
        "outputId": "965aa745-7aba-4b84-b768-c0ac18d4289c"
      },
      "execution_count": 38,
      "outputs": [
        {
          "output_type": "stream",
          "name": "stdout",
          "text": [
            "black\n",
            "blue\n",
            "brown\n",
            "green\n",
            "red\n",
            "white\n"
          ]
        }
      ]
    },
    {
      "cell_type": "code",
      "source": [
        "main_dataset = zip(tensor_images, C1, C2)\n",
        "\n",
        "label_combinations = {}\n",
        "for i, (c1, c2) in enumerate(zip(C1, C2)):\n",
        "    label_combinations[i] = f\"{c1} {c2}\"\n",
        "\n",
        "unique_labels = set(label_combinations.values())\n",
        "label_to_index = {label: i for i, label in enumerate(unique_labels)}\n",
        "print(label_to_index)\n",
        "\n",
        "enumerated_dataset = []\n",
        "for i, (tensor_images, c1, c2) in enumerate(zip(tensor_images, C1, C2)):\n",
        "  label_combination = f\"{c1} {c2}\"\n",
        "  label_index = label_to_index[label_combination]\n",
        "  enumerated_dataset.append((tensor_images, label_index))\n",
        "\n",
        "print(len(enumerated_dataset))"
      ],
      "metadata": {
        "colab": {
          "base_uri": "https://localhost:8080/"
        },
        "id": "tzlpo6nuPlX4",
        "outputId": "42f375f4-6ed8-4549-d259-1332a10fd037"
      },
      "execution_count": 39,
      "outputs": [
        {
          "output_type": "stream",
          "name": "stdout",
          "text": [
            "{'shoes green': 0, 'dress black': 1, 'shorts white': 2, 'shoes red': 3, 'shoes white': 4, 'pants red': 5, 'shorts black': 6, 'shorts brown': 7, 'pants black': 8, 'dress white': 9, 'shoes blue': 10, 'shorts blue': 11, 'shoes black': 12, 'pants green': 13, 'shorts green': 14, 'shirt green': 15, 'dress red': 16, 'pants brown': 17, 'shoes brown': 18, 'pants white': 19, 'shirt black': 20, 'dress blue': 21, 'pants blue': 22, 'shirt blue': 23}\n",
            "510\n"
          ]
        }
      ]
    },
    {
      "cell_type": "code",
      "source": [
        "BATCH_SIZE = 20\n",
        "\n",
        "train_size = int(0.6 * len(enumerated_dataset))\n",
        "val_size = int(0.2 * len(enumerated_dataset))\n",
        "test_size = len(enumerated_dataset) - train_size - val_size\n",
        "\n",
        "train_dataset, val_dataset, test_dataset = torch.utils.data.random_split(enumerated_dataset, [train_size, val_size, test_size])\n",
        "\n",
        "train_loader = torch.utils.data.DataLoader(train_dataset, batch_size=BATCH_SIZE, shuffle=True)\n",
        "val_loader = torch.utils.data.DataLoader(val_dataset, batch_size=BATCH_SIZE, shuffle=False)\n",
        "test_loader = torch.utils.data.DataLoader(test_dataset, batch_size=BATCH_SIZE, shuffle=False)"
      ],
      "metadata": {
        "id": "LwPZKxDbZQb2"
      },
      "execution_count": 40,
      "outputs": []
    },
    {
      "cell_type": "code",
      "source": [
        "def dimension(N,P,S,F) :\n",
        "  return (int((N + (2*P) - F)/ S) + 1)"
      ],
      "metadata": {
        "id": "pMz5W88eDujv"
      },
      "execution_count": 41,
      "outputs": []
    },
    {
      "cell_type": "code",
      "source": [
        "print(dimension(108, 0, 1, 3))"
      ],
      "metadata": {
        "id": "cU0oW-pTEZqg",
        "colab": {
          "base_uri": "https://localhost:8080/"
        },
        "outputId": "58a23356-050b-4c40-cc4e-070b0fdd6509"
      },
      "execution_count": 42,
      "outputs": [
        {
          "output_type": "stream",
          "name": "stdout",
          "text": [
            "106\n"
          ]
        }
      ]
    },
    {
      "cell_type": "code",
      "source": [
        "# model\n",
        "class CNN(nn.Module):\n",
        "    def __init__(self):\n",
        "        super(CNN, self).__init__()\n",
        "        self.conv1 = nn.Conv2d(in_channels=3,\n",
        "                               out_channels=32,\n",
        "                               kernel_size = 3,\n",
        "                               stride=1,\n",
        "                               padding=0)\n",
        "        #  feature map dim 108x108x32\n",
        "        self.conv2 = nn.Conv2d(32, 64, 3, 1)\n",
        "        # dim 106 x 106 x 64\n",
        "        self.maxpool2d = nn.MaxPool2d(kernel_size=2, stride=2)\n",
        "        # dim 53 x 53 x 64, 'same' = 2.809\n",
        "        self.dropout1 = nn.Dropout(0.25)\n",
        "        self.fc1 = nn.Linear(179776, 128)\n",
        "        self.dropout2 = nn.Dropout(0.25)\n",
        "        self.fc2 = nn.Linear(128, 24)\n",
        "\n",
        "    def forward(self, x):\n",
        "        x = self.conv1(x)\n",
        "        x = F.relu(x)\n",
        "        x = self.conv2(x)\n",
        "        x = F.relu(x)\n",
        "        x = self.maxpool2d(x)\n",
        "        x = self.dropout1(x)\n",
        "        x = torch.flatten(x, 1)\n",
        "        x = self.fc1(x)\n",
        "        x = F.relu(x)\n",
        "        x = self.dropout2(x)\n",
        "        x = self.fc2(x)\n",
        "        output = F.log_softmax(x, dim=1)\n",
        "        return output\n",
        "\n",
        "#Creating the model\n",
        "model = CNN()\n",
        "print(model)\n",
        "\n",
        "# calling the method on one batch\n",
        "it = iter(train_loader)\n",
        "X_batch, Y_batch = next(it)\n",
        "\n",
        "\n",
        "# Computing the accuracy of a test set\n",
        "def evaluate(model, test_loader, error):\n",
        "#model = mlpinplace=False\n",
        "    correct = 0\n",
        "    cur_loss = 0;\n",
        "\n",
        "    for test_imgs, test_labels in test_loader:\n",
        "        test_imgs, test_labels = test_imgs.cuda(), test_labels.cuda()\n",
        "        output = model(test_imgs)\n",
        "        loss = error(output, test_labels)\n",
        "        cur_loss+=loss.item()\n",
        "        predicted = torch.max(output,1)[1]\n",
        "        correct += (predicted == test_labels).sum()\n",
        "    return cur_loss/len(test_loader.dataset), correct/len(test_loader.dataset)\n",
        "\n",
        "\n",
        "\n",
        "#training the model\n",
        "def fit(model, train_loader, error, test_loader, epochs):\n",
        "    optimizer = torch.optim.Adam(model.parameters(),lr=0.0001)\n",
        "\n",
        "\n",
        "    model.train()\n",
        "    train_losses = []\n",
        "    test_losses = []\n",
        "\n",
        "    for epoch in range(epochs):\n",
        "        cur_loss = 0;\n",
        "        correct = 0\n",
        "        for X_batch, y_batch in train_loader:\n",
        "            # moving data to GPU\n",
        "            X_batch, y_batch = X_batch.cuda(), y_batch.cuda()\n",
        "            optimizer.zero_grad()\n",
        "            output = model(X_batch)\n",
        "            loss = error(output, y_batch)\n",
        "            cur_loss+= loss.item()\n",
        "            loss.backward()\n",
        "            optimizer.step()\n",
        "\n",
        "        train_losses.append(cur_loss/len(train_loader.dataset))\n",
        "\n",
        "        test_loss, _ = evaluate(model, test_loader, error)\n",
        "        test_losses.append(test_loss)\n",
        "        print(f'Epoch : {epoch},  train loss:{train_losses[-1]}, test loss:{test_losses[-1]}')\n",
        "\n",
        "    return train_losses, test_losses"
      ],
      "metadata": {
        "colab": {
          "base_uri": "https://localhost:8080/"
        },
        "id": "Z7qaXTRbZTJ6",
        "outputId": "80d6311a-1cd7-4bb9-def4-d86822a003d3"
      },
      "execution_count": 45,
      "outputs": [
        {
          "output_type": "stream",
          "name": "stdout",
          "text": [
            "CNN(\n",
            "  (conv1): Conv2d(3, 32, kernel_size=(3, 3), stride=(1, 1))\n",
            "  (conv2): Conv2d(32, 64, kernel_size=(3, 3), stride=(1, 1))\n",
            "  (maxpool2d): MaxPool2d(kernel_size=2, stride=2, padding=0, dilation=1, ceil_mode=False)\n",
            "  (dropout1): Dropout(p=0.25, inplace=False)\n",
            "  (fc1): Linear(in_features=179776, out_features=128, bias=True)\n",
            "  (dropout2): Dropout(p=0.25, inplace=False)\n",
            "  (fc2): Linear(in_features=128, out_features=24, bias=True)\n",
            ")\n"
          ]
        }
      ]
    },
    {
      "cell_type": "code",
      "source": [
        "# train\n",
        "if torch.cuda.is_available():\n",
        "  dev = \"cuda:0\"\n",
        "else:\n",
        "  dev = \"cpu\"\n",
        "print(dev)\n",
        "device = torch.device(dev)\n",
        "model.cuda()\n",
        "\n",
        "epochs = 15\n",
        "error = nn.CrossEntropyLoss()\n",
        "train_losses, test_losses = fit(model,train_loader, error, test_loader, epochs)\n",
        "\n",
        "plt.plot(train_losses,label=\"training loss\")\n",
        "plt.plot(test_losses,label=\"testing loss\")\n",
        "plt.legend(fontsize=15)\n",
        "plt.xlabel('Epoch', fontsize=20)\n",
        "plt.ylabel('Loss', fontsize=20)\n",
        "plt.xticks(fontsize=15)\n",
        "plt.yticks(fontsize=15)\n",
        "plt.figure()"
      ],
      "metadata": {
        "id": "hrMWNW17ZUd_",
        "outputId": "6a65ce20-97ce-43c9-9eb4-611e76a9954b",
        "colab": {
          "base_uri": "https://localhost:8080/",
          "height": 788
        }
      },
      "execution_count": 46,
      "outputs": [
        {
          "output_type": "stream",
          "name": "stdout",
          "text": [
            "cuda:0\n",
            "Epoch : 0,  train loss:0.1684774339588639, test loss:0.18242801871954226\n",
            "Epoch : 1,  train loss:0.15897495294708053, test loss:0.17789297010384353\n",
            "Epoch : 2,  train loss:0.15047556278752347, test loss:0.17105510421827727\n",
            "Epoch : 3,  train loss:0.1405071892769508, test loss:0.16026046696831198\n",
            "Epoch : 4,  train loss:0.13173076763651728, test loss:0.15951596288120046\n",
            "Epoch : 5,  train loss:0.12075320139429928, test loss:0.1505807170680925\n",
            "Epoch : 6,  train loss:0.10619276917837804, test loss:0.1458947354672002\n",
            "Epoch : 7,  train loss:0.09666370800118042, test loss:0.12490578959969913\n",
            "Epoch : 8,  train loss:0.08779177361843633, test loss:0.13237977962867886\n",
            "Epoch : 9,  train loss:0.07903018223693947, test loss:0.1369189000597187\n",
            "Epoch : 10,  train loss:0.0717370778906579, test loss:0.1213174953180201\n",
            "Epoch : 11,  train loss:0.05862655261762781, test loss:0.12321814135009167\n",
            "Epoch : 12,  train loss:0.05427476315716513, test loss:0.1234746026057823\n",
            "Epoch : 13,  train loss:0.04589411022226795, test loss:0.1199033868079092\n",
            "Epoch : 14,  train loss:0.04242325598507925, test loss:0.13324063665726604\n"
          ]
        },
        {
          "output_type": "execute_result",
          "data": {
            "text/plain": [
              "<Figure size 640x480 with 0 Axes>"
            ]
          },
          "metadata": {},
          "execution_count": 46
        },
        {
          "output_type": "display_data",
          "data": {
            "text/plain": [
              "<Figure size 640x480 with 1 Axes>"
            ],
            "image/png": "[encoded data removed]"
          },
          "metadata": {}
        },
        {
          "output_type": "display_data",
          "data": {
            "text/plain": [
              "<Figure size 640x480 with 0 Axes>"
            ]
          },
          "metadata": {}
        }
      ]
    },
    {
      "cell_type": "code",
      "source": [
        "# validate and test\n",
        "\n",
        "loss, acc = evaluate(model, train_loader, error)\n",
        "print(f\"Train Accuracy:{acc}, Train loss:{loss}\")\n",
        "\n",
        "loss, acc = evaluate(model, test_loader, error)\n",
        "print(f\"Test Accuracy:{acc}, Test loss:{loss}\")\n",
        "\n",
        "loss, acc = evaluate(model, val_loader, error)\n",
        "print(f\"Validation Accuracy:{acc}, Validation loss:{loss}\")"
      ],
      "metadata": {
        "id": "oIVAo80VZWpk",
        "colab": {
          "base_uri": "https://localhost:8080/"
        },
        "outputId": "cdab40ec-1add-4413-9158-5f6ba0c4e287"
      },
      "execution_count": 47,
      "outputs": [
        {
          "output_type": "stream",
          "name": "stdout",
          "text": [
            "Train Accuracy:0.826797366142273, Train loss:0.038558462184239056\n",
            "Test Accuracy:0.3921568691730499, Test loss:0.11341571340373918\n",
            "Validation Accuracy:0.29411765933036804, Validation loss:0.14008435548520556\n"
          ]
        }
      ]
    }
  ]
}